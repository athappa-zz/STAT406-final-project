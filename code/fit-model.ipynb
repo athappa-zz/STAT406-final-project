{
 "cells": [
  {
   "cell_type": "code",
   "execution_count": 19,
   "metadata": {},
   "outputs": [
    {
     "name": "stdout",
     "output_type": "stream",
     "text": [
      "\n",
      "The downloaded binary packages are in\n",
      "\t/var/folders/4s/3pfrzvw51jg_991fbyn28mz40000gp/T//RtmpylOKgT/downloaded_packages\n"
     ]
    },
    {
     "data": {
      "text/html": [
       "55267"
      ],
      "text/latex": [
       "55267"
      ],
      "text/markdown": [
       "55267"
      ],
      "text/plain": [
       "[1] 55267"
      ]
     },
     "metadata": {},
     "output_type": "display_data"
    },
    {
     "data": {
      "text/html": [
       "21"
      ],
      "text/latex": [
       "21"
      ],
      "text/markdown": [
       "21"
      ],
      "text/plain": [
       "[1] 21"
      ]
     },
     "metadata": {},
     "output_type": "display_data"
    }
   ],
   "source": [
    "# Fit Model\n",
    "install.packages(\"tree\")\n",
    "library(MASS)\n",
    "library(tree)\n",
    "\n"
   ]
  },
  {
   "cell_type": "code",
   "execution_count": 54,
   "metadata": {},
   "outputs": [
    {
     "data": {
      "text/html": [
       "55267"
      ],
      "text/latex": [
       "55267"
      ],
      "text/markdown": [
       "55267"
      ],
      "text/plain": [
       "[1] 55267"
      ]
     },
     "metadata": {},
     "output_type": "display_data"
    },
    {
     "data": {
      "text/html": [
       "21"
      ],
      "text/latex": [
       "21"
      ],
      "text/markdown": [
       "21"
      ],
      "text/plain": [
       "[1] 21"
      ]
     },
     "metadata": {},
     "output_type": "display_data"
    },
    {
     "data": {
      "text/html": [
       "<dl>\n",
       "\t<dt>$factor</dt>\n",
       "\t\t<dd>'state'</dd>\n",
       "\t<dt>$integer</dt>\n",
       "\t\t<dd><ol class=list-inline>\n",
       "\t<li>'id'</li>\n",
       "\t<li>'rural'</li>\n",
       "\t<li>'treatment_source'</li>\n",
       "\t<li>'death_symptoms'</li>\n",
       "\t<li>'factors_contributing_death'</li>\n",
       "\t<li>'factors_contributing_death_2'</li>\n",
       "\t<li>'sex'</li>\n",
       "\t<li>'religion'</li>\n",
       "\t<li>'marital_status'</li>\n",
       "\t<li>'highest_qualification'</li>\n",
       "\t<li>'occupation_status'</li>\n",
       "\t<li>'chew'</li>\n",
       "\t<li>'smoke'</li>\n",
       "\t<li>'alcohol'</li>\n",
       "\t<li>'drinking_water_source'</li>\n",
       "\t<li>'is_water_filter'</li>\n",
       "\t<li>'toilet_used'</li>\n",
       "\t<li>'household_have_electricity'</li>\n",
       "\t<li>'age_of_death_above_one_year'</li>\n",
       "</ol>\n",
       "</dd>\n",
       "\t<dt>$numeric</dt>\n",
       "\t\t<dd>'as'</dd>\n",
       "</dl>\n"
      ],
      "text/latex": [
       "\\begin{description}\n",
       "\\item[\\$factor] 'state'\n",
       "\\item[\\$integer] \\begin{enumerate*}\n",
       "\\item 'id'\n",
       "\\item 'rural'\n",
       "\\item 'treatment\\_source'\n",
       "\\item 'death\\_symptoms'\n",
       "\\item 'factors\\_contributing\\_death'\n",
       "\\item 'factors\\_contributing\\_death\\_2'\n",
       "\\item 'sex'\n",
       "\\item 'religion'\n",
       "\\item 'marital\\_status'\n",
       "\\item 'highest\\_qualification'\n",
       "\\item 'occupation\\_status'\n",
       "\\item 'chew'\n",
       "\\item 'smoke'\n",
       "\\item 'alcohol'\n",
       "\\item 'drinking\\_water\\_source'\n",
       "\\item 'is\\_water\\_filter'\n",
       "\\item 'toilet\\_used'\n",
       "\\item 'household\\_have\\_electricity'\n",
       "\\item 'age\\_of\\_death\\_above\\_one\\_year'\n",
       "\\end{enumerate*}\n",
       "\n",
       "\\item[\\$numeric] 'as'\n",
       "\\end{description}\n"
      ],
      "text/markdown": [
       "$factor\n",
       ":   'state'\n",
       "$integer\n",
       ":   1. 'id'\n",
       "2. 'rural'\n",
       "3. 'treatment_source'\n",
       "4. 'death_symptoms'\n",
       "5. 'factors_contributing_death'\n",
       "6. 'factors_contributing_death_2'\n",
       "7. 'sex'\n",
       "8. 'religion'\n",
       "9. 'marital_status'\n",
       "10. 'highest_qualification'\n",
       "11. 'occupation_status'\n",
       "12. 'chew'\n",
       "13. 'smoke'\n",
       "14. 'alcohol'\n",
       "15. 'drinking_water_source'\n",
       "16. 'is_water_filter'\n",
       "17. 'toilet_used'\n",
       "18. 'household_have_electricity'\n",
       "19. 'age_of_death_above_one_year'\n",
       "\n",
       "\n",
       "\n",
       "$numeric\n",
       ":   'as'\n",
       "\n",
       "\n"
      ],
      "text/plain": [
       "$factor\n",
       "[1] \"state\"\n",
       "\n",
       "$integer\n",
       " [1] \"id\"                           \"rural\"                       \n",
       " [3] \"treatment_source\"             \"death_symptoms\"              \n",
       " [5] \"factors_contributing_death\"   \"factors_contributing_death_2\"\n",
       " [7] \"sex\"                          \"religion\"                    \n",
       " [9] \"marital_status\"               \"highest_qualification\"       \n",
       "[11] \"occupation_status\"            \"chew\"                        \n",
       "[13] \"smoke\"                        \"alcohol\"                     \n",
       "[15] \"drinking_water_source\"        \"is_water_filter\"             \n",
       "[17] \"toilet_used\"                  \"household_have_electricity\"  \n",
       "[19] \"age_of_death_above_one_year\" \n",
       "\n",
       "$numeric\n",
       "[1] \"as\"\n"
      ]
     },
     "metadata": {},
     "output_type": "display_data"
    }
   ],
   "source": [
    "raw.data <- read.table(\"~/STAT406-final-project/clean_data/clean_data.txt\", header=T, sep=\",\")\n",
    "nrow(raw.data)\n",
    "ncol(raw.data)\n",
    "\n",
    "factor.vars <- c(\"state\", \"rural\", \"sex\", \"treatment_source\" , \"death_symptoms\", \"factors_contributing_death\",\n",
    "\"factors_contributing_death_2\",\"religion\",\"marital_status\", \"highest_qualification\",\"occupation_status\",\n",
    "\"chew\", \"smoke\", \"alcohol\", \"drinking_water_source\", \"is_water_filter\", \"toilet_used\",\n",
    "\"household_have_electricity\")\n",
    "\n",
    "raw.data$state <- factor(raw.data$state)\n",
    "\n",
    "split(names(raw.data),\n",
    "      sapply(raw.data, function(x) paste(class(x), collapse=\" \")))\n"
   ]
  },
  {
   "cell_type": "code",
   "execution_count": 56,
   "metadata": {},
   "outputs": [
    {
     "data": {
      "text/html": [
       "<dl>\n",
       "\t<dt>$factor</dt>\n",
       "\t\t<dd><ol class=list-inline>\n",
       "\t<li>'state'</li>\n",
       "\t<li>'rural'</li>\n",
       "\t<li>'treatment_source'</li>\n",
       "\t<li>'death_symptoms'</li>\n",
       "\t<li>'factors_contributing_death'</li>\n",
       "\t<li>'factors_contributing_death_2'</li>\n",
       "\t<li>'sex'</li>\n",
       "\t<li>'religion'</li>\n",
       "\t<li>'marital_status'</li>\n",
       "\t<li>'highest_qualification'</li>\n",
       "\t<li>'occupation_status'</li>\n",
       "\t<li>'chew'</li>\n",
       "\t<li>'smoke'</li>\n",
       "\t<li>'alcohol'</li>\n",
       "\t<li>'drinking_water_source'</li>\n",
       "\t<li>'is_water_filter'</li>\n",
       "\t<li>'toilet_used'</li>\n",
       "\t<li>'household_have_electricity'</li>\n",
       "</ol>\n",
       "</dd>\n",
       "\t<dt>$integer</dt>\n",
       "\t\t<dd><ol class=list-inline>\n",
       "\t<li>'id'</li>\n",
       "\t<li>'age_of_death_above_one_year'</li>\n",
       "</ol>\n",
       "</dd>\n",
       "\t<dt>$numeric</dt>\n",
       "\t\t<dd>'as'</dd>\n",
       "</dl>\n"
      ],
      "text/latex": [
       "\\begin{description}\n",
       "\\item[\\$factor] \\begin{enumerate*}\n",
       "\\item 'state'\n",
       "\\item 'rural'\n",
       "\\item 'treatment\\_source'\n",
       "\\item 'death\\_symptoms'\n",
       "\\item 'factors\\_contributing\\_death'\n",
       "\\item 'factors\\_contributing\\_death\\_2'\n",
       "\\item 'sex'\n",
       "\\item 'religion'\n",
       "\\item 'marital\\_status'\n",
       "\\item 'highest\\_qualification'\n",
       "\\item 'occupation\\_status'\n",
       "\\item 'chew'\n",
       "\\item 'smoke'\n",
       "\\item 'alcohol'\n",
       "\\item 'drinking\\_water\\_source'\n",
       "\\item 'is\\_water\\_filter'\n",
       "\\item 'toilet\\_used'\n",
       "\\item 'household\\_have\\_electricity'\n",
       "\\end{enumerate*}\n",
       "\n",
       "\\item[\\$integer] \\begin{enumerate*}\n",
       "\\item 'id'\n",
       "\\item 'age\\_of\\_death\\_above\\_one\\_year'\n",
       "\\end{enumerate*}\n",
       "\n",
       "\\item[\\$numeric] 'as'\n",
       "\\end{description}\n"
      ],
      "text/markdown": [
       "$factor\n",
       ":   1. 'state'\n",
       "2. 'rural'\n",
       "3. 'treatment_source'\n",
       "4. 'death_symptoms'\n",
       "5. 'factors_contributing_death'\n",
       "6. 'factors_contributing_death_2'\n",
       "7. 'sex'\n",
       "8. 'religion'\n",
       "9. 'marital_status'\n",
       "10. 'highest_qualification'\n",
       "11. 'occupation_status'\n",
       "12. 'chew'\n",
       "13. 'smoke'\n",
       "14. 'alcohol'\n",
       "15. 'drinking_water_source'\n",
       "16. 'is_water_filter'\n",
       "17. 'toilet_used'\n",
       "18. 'household_have_electricity'\n",
       "\n",
       "\n",
       "\n",
       "$integer\n",
       ":   1. 'id'\n",
       "2. 'age_of_death_above_one_year'\n",
       "\n",
       "\n",
       "\n",
       "$numeric\n",
       ":   'as'\n",
       "\n",
       "\n"
      ],
      "text/plain": [
       "$factor\n",
       " [1] \"state\"                        \"rural\"                       \n",
       " [3] \"treatment_source\"             \"death_symptoms\"              \n",
       " [5] \"factors_contributing_death\"   \"factors_contributing_death_2\"\n",
       " [7] \"sex\"                          \"religion\"                    \n",
       " [9] \"marital_status\"               \"highest_qualification\"       \n",
       "[11] \"occupation_status\"            \"chew\"                        \n",
       "[13] \"smoke\"                        \"alcohol\"                     \n",
       "[15] \"drinking_water_source\"        \"is_water_filter\"             \n",
       "[17] \"toilet_used\"                  \"household_have_electricity\"  \n",
       "\n",
       "$integer\n",
       "[1] \"id\"                          \"age_of_death_above_one_year\"\n",
       "\n",
       "$numeric\n",
       "[1] \"as\"\n"
      ]
     },
     "metadata": {},
     "output_type": "display_data"
    }
   ],
   "source": [
    "raw.data[factor.vars] <- lapply(raw.data[factor.vars],\n",
    "                               factor)\n",
    "\n",
    "split(names(raw.data),\n",
    "      sapply(raw.data, function(x) paste(class(x), collapse=\" \")))\n"
   ]
  },
  {
   "cell_type": "code",
   "execution_count": 58,
   "metadata": {},
   "outputs": [
    {
     "data": {
      "text/html": [
       "<table>\n",
       "<thead><tr><th scope=col>state</th><th scope=col>rural</th><th scope=col>treatment_source</th><th scope=col>death_symptoms</th><th scope=col>factors_contributing_death</th><th scope=col>factors_contributing_death_2</th><th scope=col>sex</th><th scope=col>religion</th><th scope=col>marital_status</th><th scope=col>highest_qualification</th><th scope=col>occupation_status</th><th scope=col>chew</th><th scope=col>smoke</th><th scope=col>alcohol</th><th scope=col>drinking_water_source</th><th scope=col>is_water_filter</th><th scope=col>toilet_used</th><th scope=col>household_have_electricity</th><th scope=col>as</th><th scope=col>age_of_death_above_one_year</th></tr></thead>\n",
       "<tbody>\n",
       "\t<tr><td>18       </td><td>1        </td><td>5        </td><td>9        </td><td>4        </td><td>4        </td><td>1        </td><td>2        </td><td>4        </td><td>0        </td><td>3        </td><td>2        </td><td>4        </td><td>4        </td><td>6        </td><td>2        </td><td>7        </td><td>2        </td><td>-5.402839</td><td>35       </td></tr>\n",
       "\t<tr><td>18       </td><td>1        </td><td>6        </td><td>10       </td><td>7        </td><td>1        </td><td>1        </td><td>1        </td><td>3        </td><td>1        </td><td>2        </td><td>5        </td><td>4        </td><td>4        </td><td>6        </td><td>2        </td><td>0        </td><td>2        </td><td>-4.536228</td><td>25       </td></tr>\n",
       "\t<tr><td>18       </td><td>1        </td><td>6        </td><td>14       </td><td>4        </td><td>1        </td><td>1        </td><td>1        </td><td>3        </td><td>0        </td><td>1        </td><td>7        </td><td>1        </td><td>1        </td><td>6        </td><td>2        </td><td>0        </td><td>2        </td><td>-5.392297</td><td>22       </td></tr>\n",
       "\t<tr><td>18       </td><td>1        </td><td>6        </td><td>4        </td><td>1        </td><td>5        </td><td>1        </td><td>1        </td><td>5        </td><td>0        </td><td>10       </td><td>4        </td><td>4        </td><td>2        </td><td>4        </td><td>2        </td><td>0        </td><td>2        </td><td>-5.425876</td><td>27       </td></tr>\n",
       "\t<tr><td>18       </td><td>1        </td><td>3        </td><td>9        </td><td>5        </td><td>7        </td><td>2        </td><td>1        </td><td>3        </td><td>6        </td><td>10       </td><td>2        </td><td>4        </td><td>4        </td><td>3        </td><td>2        </td><td>3        </td><td>2        </td><td> 1.251827</td><td>30       </td></tr>\n",
       "\t<tr><td>18       </td><td>1        </td><td>6        </td><td>2        </td><td>5        </td><td>4        </td><td>1        </td><td>1        </td><td>3        </td><td>0        </td><td>3        </td><td>5        </td><td>2        </td><td>1        </td><td>3        </td><td>1        </td><td>7        </td><td>2        </td><td>-4.296853</td><td>22       </td></tr>\n",
       "</tbody>\n",
       "</table>\n"
      ],
      "text/latex": [
       "\\begin{tabular}{r|llllllllllllllllllll}\n",
       " state & rural & treatment\\_source & death\\_symptoms & factors\\_contributing\\_death & factors\\_contributing\\_death\\_2 & sex & religion & marital\\_status & highest\\_qualification & occupation\\_status & chew & smoke & alcohol & drinking\\_water\\_source & is\\_water\\_filter & toilet\\_used & household\\_have\\_electricity & as & age\\_of\\_death\\_above\\_one\\_year\\\\\n",
       "\\hline\n",
       "\t 18        & 1         & 5         & 9         & 4         & 4         & 1         & 2         & 4         & 0         & 3         & 2         & 4         & 4         & 6         & 2         & 7         & 2         & -5.402839 & 35       \\\\\n",
       "\t 18        & 1         & 6         & 10        & 7         & 1         & 1         & 1         & 3         & 1         & 2         & 5         & 4         & 4         & 6         & 2         & 0         & 2         & -4.536228 & 25       \\\\\n",
       "\t 18        & 1         & 6         & 14        & 4         & 1         & 1         & 1         & 3         & 0         & 1         & 7         & 1         & 1         & 6         & 2         & 0         & 2         & -5.392297 & 22       \\\\\n",
       "\t 18        & 1         & 6         & 4         & 1         & 5         & 1         & 1         & 5         & 0         & 10        & 4         & 4         & 2         & 4         & 2         & 0         & 2         & -5.425876 & 27       \\\\\n",
       "\t 18        & 1         & 3         & 9         & 5         & 7         & 2         & 1         & 3         & 6         & 10        & 2         & 4         & 4         & 3         & 2         & 3         & 2         &  1.251827 & 30       \\\\\n",
       "\t 18        & 1         & 6         & 2         & 5         & 4         & 1         & 1         & 3         & 0         & 3         & 5         & 2         & 1         & 3         & 1         & 7         & 2         & -4.296853 & 22       \\\\\n",
       "\\end{tabular}\n"
      ],
      "text/markdown": [
       "\n",
       "state | rural | treatment_source | death_symptoms | factors_contributing_death | factors_contributing_death_2 | sex | religion | marital_status | highest_qualification | occupation_status | chew | smoke | alcohol | drinking_water_source | is_water_filter | toilet_used | household_have_electricity | as | age_of_death_above_one_year | \n",
       "|---|---|---|---|---|---|\n",
       "| 18        | 1         | 5         | 9         | 4         | 4         | 1         | 2         | 4         | 0         | 3         | 2         | 4         | 4         | 6         | 2         | 7         | 2         | -5.402839 | 35        | \n",
       "| 18        | 1         | 6         | 10        | 7         | 1         | 1         | 1         | 3         | 1         | 2         | 5         | 4         | 4         | 6         | 2         | 0         | 2         | -4.536228 | 25        | \n",
       "| 18        | 1         | 6         | 14        | 4         | 1         | 1         | 1         | 3         | 0         | 1         | 7         | 1         | 1         | 6         | 2         | 0         | 2         | -5.392297 | 22        | \n",
       "| 18        | 1         | 6         | 4         | 1         | 5         | 1         | 1         | 5         | 0         | 10        | 4         | 4         | 2         | 4         | 2         | 0         | 2         | -5.425876 | 27        | \n",
       "| 18        | 1         | 3         | 9         | 5         | 7         | 2         | 1         | 3         | 6         | 10        | 2         | 4         | 4         | 3         | 2         | 3         | 2         |  1.251827 | 30        | \n",
       "| 18        | 1         | 6         | 2         | 5         | 4         | 1         | 1         | 3         | 0         | 3         | 5         | 2         | 1         | 3         | 1         | 7         | 2         | -4.296853 | 22        | \n",
       "\n",
       "\n"
      ],
      "text/plain": [
       "  state rural treatment_source death_symptoms factors_contributing_death\n",
       "1 18    1     5                9              4                         \n",
       "2 18    1     6                10             7                         \n",
       "3 18    1     6                14             4                         \n",
       "4 18    1     6                4              1                         \n",
       "5 18    1     3                9              5                         \n",
       "6 18    1     6                2              5                         \n",
       "  factors_contributing_death_2 sex religion marital_status\n",
       "1 4                            1   2        4             \n",
       "2 1                            1   1        3             \n",
       "3 1                            1   1        3             \n",
       "4 5                            1   1        5             \n",
       "5 7                            2   1        3             \n",
       "6 4                            1   1        3             \n",
       "  highest_qualification occupation_status chew smoke alcohol\n",
       "1 0                     3                 2    4     4      \n",
       "2 1                     2                 5    4     4      \n",
       "3 0                     1                 7    1     1      \n",
       "4 0                     10                4    4     2      \n",
       "5 6                     10                2    4     4      \n",
       "6 0                     3                 5    2     1      \n",
       "  drinking_water_source is_water_filter toilet_used household_have_electricity\n",
       "1 6                     2               7           2                         \n",
       "2 6                     2               0           2                         \n",
       "3 6                     2               0           2                         \n",
       "4 4                     2               0           2                         \n",
       "5 3                     2               3           2                         \n",
       "6 3                     1               7           2                         \n",
       "  as        age_of_death_above_one_year\n",
       "1 -5.402839 35                         \n",
       "2 -4.536228 25                         \n",
       "3 -5.392297 22                         \n",
       "4 -5.425876 27                         \n",
       "5  1.251827 30                         \n",
       "6 -4.296853 22                         "
      ]
     },
     "metadata": {},
     "output_type": "display_data"
    },
    {
     "data": {
      "text/html": [
       "<dl>\n",
       "\t<dt>$factor</dt>\n",
       "\t\t<dd><ol class=list-inline>\n",
       "\t<li>'state'</li>\n",
       "\t<li>'rural'</li>\n",
       "\t<li>'treatment_source'</li>\n",
       "\t<li>'death_symptoms'</li>\n",
       "\t<li>'factors_contributing_death'</li>\n",
       "\t<li>'factors_contributing_death_2'</li>\n",
       "\t<li>'sex'</li>\n",
       "\t<li>'religion'</li>\n",
       "\t<li>'marital_status'</li>\n",
       "\t<li>'highest_qualification'</li>\n",
       "\t<li>'occupation_status'</li>\n",
       "\t<li>'chew'</li>\n",
       "\t<li>'smoke'</li>\n",
       "\t<li>'alcohol'</li>\n",
       "\t<li>'drinking_water_source'</li>\n",
       "\t<li>'is_water_filter'</li>\n",
       "\t<li>'toilet_used'</li>\n",
       "\t<li>'household_have_electricity'</li>\n",
       "</ol>\n",
       "</dd>\n",
       "\t<dt>$integer</dt>\n",
       "\t\t<dd>'age_of_death_above_one_year'</dd>\n",
       "\t<dt>$numeric</dt>\n",
       "\t\t<dd>'as'</dd>\n",
       "</dl>\n"
      ],
      "text/latex": [
       "\\begin{description}\n",
       "\\item[\\$factor] \\begin{enumerate*}\n",
       "\\item 'state'\n",
       "\\item 'rural'\n",
       "\\item 'treatment\\_source'\n",
       "\\item 'death\\_symptoms'\n",
       "\\item 'factors\\_contributing\\_death'\n",
       "\\item 'factors\\_contributing\\_death\\_2'\n",
       "\\item 'sex'\n",
       "\\item 'religion'\n",
       "\\item 'marital\\_status'\n",
       "\\item 'highest\\_qualification'\n",
       "\\item 'occupation\\_status'\n",
       "\\item 'chew'\n",
       "\\item 'smoke'\n",
       "\\item 'alcohol'\n",
       "\\item 'drinking\\_water\\_source'\n",
       "\\item 'is\\_water\\_filter'\n",
       "\\item 'toilet\\_used'\n",
       "\\item 'household\\_have\\_electricity'\n",
       "\\end{enumerate*}\n",
       "\n",
       "\\item[\\$integer] 'age\\_of\\_death\\_above\\_one\\_year'\n",
       "\\item[\\$numeric] 'as'\n",
       "\\end{description}\n"
      ],
      "text/markdown": [
       "$factor\n",
       ":   1. 'state'\n",
       "2. 'rural'\n",
       "3. 'treatment_source'\n",
       "4. 'death_symptoms'\n",
       "5. 'factors_contributing_death'\n",
       "6. 'factors_contributing_death_2'\n",
       "7. 'sex'\n",
       "8. 'religion'\n",
       "9. 'marital_status'\n",
       "10. 'highest_qualification'\n",
       "11. 'occupation_status'\n",
       "12. 'chew'\n",
       "13. 'smoke'\n",
       "14. 'alcohol'\n",
       "15. 'drinking_water_source'\n",
       "16. 'is_water_filter'\n",
       "17. 'toilet_used'\n",
       "18. 'household_have_electricity'\n",
       "\n",
       "\n",
       "\n",
       "$integer\n",
       ":   'age_of_death_above_one_year'\n",
       "$numeric\n",
       ":   'as'\n",
       "\n",
       "\n"
      ],
      "text/plain": [
       "$factor\n",
       " [1] \"state\"                        \"rural\"                       \n",
       " [3] \"treatment_source\"             \"death_symptoms\"              \n",
       " [5] \"factors_contributing_death\"   \"factors_contributing_death_2\"\n",
       " [7] \"sex\"                          \"religion\"                    \n",
       " [9] \"marital_status\"               \"highest_qualification\"       \n",
       "[11] \"occupation_status\"            \"chew\"                        \n",
       "[13] \"smoke\"                        \"alcohol\"                     \n",
       "[15] \"drinking_water_source\"        \"is_water_filter\"             \n",
       "[17] \"toilet_used\"                  \"household_have_electricity\"  \n",
       "\n",
       "$integer\n",
       "[1] \"age_of_death_above_one_year\"\n",
       "\n",
       "$numeric\n",
       "[1] \"as\"\n"
      ]
     },
     "metadata": {},
     "output_type": "display_data"
    }
   ],
   "source": [
    "# probability of \n",
    "drop <- c(\"id\")\n",
    "raw.data <- raw.data[,!(names(raw.data) %in% drop)]\n",
    "head(raw.data)\n",
    "split(names(raw.data),\n",
    "      sapply(raw.data, function(x) paste(class(x), collapse=\" \")))\n"
   ]
  },
  {
   "cell_type": "code",
   "execution_count": 59,
   "metadata": {},
   "outputs": [
    {
     "data": {
      "text/plain": [
       "\n",
       "Regression tree:\n",
       "tree(formula = age_of_death_above_one_year ~ ., data = raw.data, \n",
       "    subset = train)\n",
       "Variables actually used in tree construction:\n",
       "[1] \"death_symptoms\" \"as\"            \n",
       "Number of terminal nodes:  3 \n",
       "Residual mean deviance:  614.1 = 16970000 / 27630 \n",
       "Distribution of residuals:\n",
       "   Min. 1st Qu.  Median    Mean 3rd Qu.    Max. \n",
       "-61.400  -9.400   1.702   0.000  16.700  97.750 "
      ]
     },
     "metadata": {},
     "output_type": "display_data"
    }
   ],
   "source": [
    "# regression tree\n",
    "train = sample(1:nrow(raw.data), nrow(raw.data)/2)\n",
    "death.tree = tree(age_of_death_above_one_year~., \n",
    "                 raw.data, subset=train )\n",
    "summary(death.tree)"
   ]
  },
  {
   "cell_type": "code",
   "execution_count": 60,
   "metadata": {},
   "outputs": [
    {
     "data": {
      "image/png": "[encoded data removed]",
      "text/plain": [
       "plot without title"
      ]
     },
     "metadata": {},
     "output_type": "display_data"
    }
   ],
   "source": [
    "plot(death.tree)\n",
    "text(death.tree, pretty=0)"
   ]
  },
  {
   "cell_type": "code",
   "execution_count": null,
   "metadata": {
    "collapsed": true
   },
   "outputs": [],
   "source": []
  },
  {
   "cell_type": "code",
   "execution_count": null,
   "metadata": {
    "collapsed": true
   },
   "outputs": [],
   "source": []
  },
  {
   "cell_type": "code",
   "execution_count": null,
   "metadata": {
    "collapsed": true
   },
   "outputs": [],
   "source": []
  },
  {
   "cell_type": "code",
   "execution_count": null,
   "metadata": {
    "collapsed": true
   },
   "outputs": [],
   "source": [
    "\n"
   ]
  }
 ],
 "metadata": {
  "kernelspec": {
   "display_name": "R",
   "language": "R",
   "name": "ir"
  },
  "language_info": {
   "codemirror_mode": "r",
   "file_extension": ".r",
   "mimetype": "text/x-r-source",
   "name": "R",
   "pygments_lexer": "r",
   "version": "3.4.2"
  }
 },
 "nbformat": 4,
 "nbformat_minor": 2
}
